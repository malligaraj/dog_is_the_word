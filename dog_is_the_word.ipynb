{
  "nbformat": 4,
  "nbformat_minor": 0,
  "metadata": {
    "colab": {
      "name": "dog_is_the_word.ipynb",
      "provenance": []
    },
    "kernelspec": {
      "name": "python3",
      "display_name": "Python 3"
    },
    "widgets": {
      "application/vnd.jupyter.widget-state+json": {
        "aa7b019585f44adaab1843876091d3b5": {
          "model_module": "@jupyter-widgets/controls",
          "model_name": "VBoxModel",
          "state": {
            "_view_name": "VBoxView",
            "_dom_classes": [],
            "_model_name": "VBoxModel",
            "_view_module": "@jupyter-widgets/controls",
            "_model_module_version": "1.5.0",
            "_view_count": null,
            "_view_module_version": "1.5.0",
            "box_style": "",
            "layout": "IPY_MODEL_d056b0c14dd640239ca67d169ebf7995",
            "_model_module": "@jupyter-widgets/controls",
            "children": [
              "IPY_MODEL_91b2701c6a38495a91654957032e0a5b",
              "IPY_MODEL_e5f24be5d6d84144bfd89512a042070c",
              "IPY_MODEL_0a9c250440894428a23bbc7c54dcbf00",
              "IPY_MODEL_2424c424fe6442e0b3c4c6c2f4f3156f"
            ]
          }
        },
        "d056b0c14dd640239ca67d169ebf7995": {
          "model_module": "@jupyter-widgets/base",
          "model_name": "LayoutModel",
          "state": {
            "_view_name": "LayoutView",
            "grid_template_rows": null,
            "right": null,
            "justify_content": null,
            "_view_module": "@jupyter-widgets/base",
            "overflow": null,
            "_model_module_version": "1.2.0",
            "_view_count": null,
            "flex_flow": null,
            "width": null,
            "min_width": null,
            "border": null,
            "align_items": null,
            "bottom": null,
            "_model_module": "@jupyter-widgets/base",
            "top": null,
            "grid_column": null,
            "overflow_y": null,
            "overflow_x": null,
            "grid_auto_flow": null,
            "grid_area": null,
            "grid_template_columns": null,
            "flex": null,
            "_model_name": "LayoutModel",
            "justify_items": null,
            "grid_row": null,
            "max_height": null,
            "align_content": null,
            "visibility": null,
            "align_self": null,
            "height": null,
            "min_height": null,
            "padding": null,
            "grid_auto_rows": null,
            "grid_gap": null,
            "max_width": null,
            "order": null,
            "_view_module_version": "1.2.0",
            "grid_template_areas": null,
            "object_position": null,
            "object_fit": null,
            "grid_auto_columns": null,
            "margin": null,
            "display": null,
            "left": null
          }
        },
        "91b2701c6a38495a91654957032e0a5b": {
          "model_module": "@jupyter-widgets/controls",
          "model_name": "LabelModel",
          "state": {
            "_view_name": "LabelView",
            "style": "IPY_MODEL_d72a7a3ee7fc4c3791a7eb74621f6c86",
            "_dom_classes": [],
            "description": "",
            "_model_name": "LabelModel",
            "placeholder": "​",
            "_view_module": "@jupyter-widgets/controls",
            "_model_module_version": "1.5.0",
            "value": "Select your dog!",
            "_view_count": null,
            "_view_module_version": "1.5.0",
            "description_tooltip": null,
            "_model_module": "@jupyter-widgets/controls",
            "layout": "IPY_MODEL_05fbbd92bed94774aabc0b8b5491fdb9"
          }
        },
        "e5f24be5d6d84144bfd89512a042070c": {
          "model_module": "@jupyter-widgets/controls",
          "model_name": "LabelModel",
          "state": {
            "_view_name": "LabelView",
            "style": "IPY_MODEL_b1e1751af5f84e139bed7057cdff60af",
            "_dom_classes": [],
            "description": "",
            "_model_name": "LabelModel",
            "placeholder": "​",
            "_view_module": "@jupyter-widgets/controls",
            "_model_module_version": "1.5.0",
            "value": "Prediction: golden_retriever",
            "_view_count": null,
            "_view_module_version": "1.5.0",
            "description_tooltip": null,
            "_model_module": "@jupyter-widgets/controls",
            "layout": "IPY_MODEL_ae818c541f5e40ae9ca00c593c1e10e4"
          }
        },
        "0a9c250440894428a23bbc7c54dcbf00": {
          "model_module": "@jupyter-widgets/controls",
          "model_name": "FileUploadModel",
          "state": {
            "_view_name": "FileUploadView",
            "_counter": 1,
            "style": "IPY_MODEL_35ff649d41d1480eac29e3edc3ea7eb9",
            "_dom_classes": [],
            "description": "Upload",
            "multiple": false,
            "_model_name": "FileUploadModel",
            "data": [
              null
            ],
            "button_style": "",
            "_view_module": "@jupyter-widgets/controls",
            "_model_module_version": "1.5.0",
            "accept": "",
            "_view_count": null,
            "disabled": false,
            "_view_module_version": "1.5.0",
            "error": "",
            "description_tooltip": null,
            "metadata": [
              {
                "name": "golden_retriever.jpg",
                "type": "image/jpeg",
                "size": 48339,
                "lastModified": 1607876245344
              }
            ],
            "_model_module": "@jupyter-widgets/controls",
            "layout": "IPY_MODEL_5b1b02d05f784bbd8325b2327817c430",
            "icon": "upload"
          }
        },
        "2424c424fe6442e0b3c4c6c2f4f3156f": {
          "model_module": "@jupyter-widgets/output",
          "model_name": "OutputModel",
          "state": {
            "_view_name": "OutputView",
            "msg_id": "",
            "_dom_classes": [],
            "_model_name": "OutputModel",
            "outputs": [
              {
                "output_type": "display_data",
                "metadata": {
                  "tags": []
                },
                "image/png": "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\n",
                "text/plain": "<PIL.Image.Image image mode=RGB size=128x91 at 0x7F63107CAC88>"
              }
            ],
            "_view_module": "@jupyter-widgets/output",
            "_model_module_version": "1.0.0",
            "_view_count": null,
            "_view_module_version": "1.0.0",
            "layout": "IPY_MODEL_8dda2c9e9f2a491ca87b7e37fc4b4188",
            "_model_module": "@jupyter-widgets/output"
          }
        },
        "d72a7a3ee7fc4c3791a7eb74621f6c86": {
          "model_module": "@jupyter-widgets/controls",
          "model_name": "DescriptionStyleModel",
          "state": {
            "_view_name": "StyleView",
            "_model_name": "DescriptionStyleModel",
            "description_width": "",
            "_view_module": "@jupyter-widgets/base",
            "_model_module_version": "1.5.0",
            "_view_count": null,
            "_view_module_version": "1.2.0",
            "_model_module": "@jupyter-widgets/controls"
          }
        },
        "05fbbd92bed94774aabc0b8b5491fdb9": {
          "model_module": "@jupyter-widgets/base",
          "model_name": "LayoutModel",
          "state": {
            "_view_name": "LayoutView",
            "grid_template_rows": null,
            "right": null,
            "justify_content": null,
            "_view_module": "@jupyter-widgets/base",
            "overflow": null,
            "_model_module_version": "1.2.0",
            "_view_count": null,
            "flex_flow": null,
            "width": null,
            "min_width": null,
            "border": null,
            "align_items": null,
            "bottom": null,
            "_model_module": "@jupyter-widgets/base",
            "top": null,
            "grid_column": null,
            "overflow_y": null,
            "overflow_x": null,
            "grid_auto_flow": null,
            "grid_area": null,
            "grid_template_columns": null,
            "flex": null,
            "_model_name": "LayoutModel",
            "justify_items": null,
            "grid_row": null,
            "max_height": null,
            "align_content": null,
            "visibility": null,
            "align_self": null,
            "height": null,
            "min_height": null,
            "padding": null,
            "grid_auto_rows": null,
            "grid_gap": null,
            "max_width": null,
            "order": null,
            "_view_module_version": "1.2.0",
            "grid_template_areas": null,
            "object_position": null,
            "object_fit": null,
            "grid_auto_columns": null,
            "margin": null,
            "display": null,
            "left": null
          }
        },
        "b1e1751af5f84e139bed7057cdff60af": {
          "model_module": "@jupyter-widgets/controls",
          "model_name": "DescriptionStyleModel",
          "state": {
            "_view_name": "StyleView",
            "_model_name": "DescriptionStyleModel",
            "description_width": "",
            "_view_module": "@jupyter-widgets/base",
            "_model_module_version": "1.5.0",
            "_view_count": null,
            "_view_module_version": "1.2.0",
            "_model_module": "@jupyter-widgets/controls"
          }
        },
        "ae818c541f5e40ae9ca00c593c1e10e4": {
          "model_module": "@jupyter-widgets/base",
          "model_name": "LayoutModel",
          "state": {
            "_view_name": "LayoutView",
            "grid_template_rows": null,
            "right": null,
            "justify_content": null,
            "_view_module": "@jupyter-widgets/base",
            "overflow": null,
            "_model_module_version": "1.2.0",
            "_view_count": null,
            "flex_flow": null,
            "width": null,
            "min_width": null,
            "border": null,
            "align_items": null,
            "bottom": null,
            "_model_module": "@jupyter-widgets/base",
            "top": null,
            "grid_column": null,
            "overflow_y": null,
            "overflow_x": null,
            "grid_auto_flow": null,
            "grid_area": null,
            "grid_template_columns": null,
            "flex": null,
            "_model_name": "LayoutModel",
            "justify_items": null,
            "grid_row": null,
            "max_height": null,
            "align_content": null,
            "visibility": null,
            "align_self": null,
            "height": null,
            "min_height": null,
            "padding": null,
            "grid_auto_rows": null,
            "grid_gap": null,
            "max_width": null,
            "order": null,
            "_view_module_version": "1.2.0",
            "grid_template_areas": null,
            "object_position": null,
            "object_fit": null,
            "grid_auto_columns": null,
            "margin": null,
            "display": null,
            "left": null
          }
        },
        "35ff649d41d1480eac29e3edc3ea7eb9": {
          "model_module": "@jupyter-widgets/controls",
          "model_name": "ButtonStyleModel",
          "state": {
            "_view_name": "StyleView",
            "_model_name": "ButtonStyleModel",
            "_view_module": "@jupyter-widgets/base",
            "_model_module_version": "1.5.0",
            "_view_count": null,
            "button_color": null,
            "font_weight": "",
            "_view_module_version": "1.2.0",
            "_model_module": "@jupyter-widgets/controls"
          }
        },
        "5b1b02d05f784bbd8325b2327817c430": {
          "model_module": "@jupyter-widgets/base",
          "model_name": "LayoutModel",
          "state": {
            "_view_name": "LayoutView",
            "grid_template_rows": null,
            "right": null,
            "justify_content": null,
            "_view_module": "@jupyter-widgets/base",
            "overflow": null,
            "_model_module_version": "1.2.0",
            "_view_count": null,
            "flex_flow": null,
            "width": null,
            "min_width": null,
            "border": null,
            "align_items": null,
            "bottom": null,
            "_model_module": "@jupyter-widgets/base",
            "top": null,
            "grid_column": null,
            "overflow_y": null,
            "overflow_x": null,
            "grid_auto_flow": null,
            "grid_area": null,
            "grid_template_columns": null,
            "flex": null,
            "_model_name": "LayoutModel",
            "justify_items": null,
            "grid_row": null,
            "max_height": null,
            "align_content": null,
            "visibility": null,
            "align_self": null,
            "height": null,
            "min_height": null,
            "padding": null,
            "grid_auto_rows": null,
            "grid_gap": null,
            "max_width": null,
            "order": null,
            "_view_module_version": "1.2.0",
            "grid_template_areas": null,
            "object_position": null,
            "object_fit": null,
            "grid_auto_columns": null,
            "margin": null,
            "display": null,
            "left": null
          }
        },
        "8dda2c9e9f2a491ca87b7e37fc4b4188": {
          "model_module": "@jupyter-widgets/base",
          "model_name": "LayoutModel",
          "state": {
            "_view_name": "LayoutView",
            "grid_template_rows": null,
            "right": null,
            "justify_content": null,
            "_view_module": "@jupyter-widgets/base",
            "overflow": null,
            "_model_module_version": "1.2.0",
            "_view_count": null,
            "flex_flow": null,
            "width": null,
            "min_width": null,
            "border": null,
            "align_items": null,
            "bottom": null,
            "_model_module": "@jupyter-widgets/base",
            "top": null,
            "grid_column": null,
            "overflow_y": null,
            "overflow_x": null,
            "grid_auto_flow": null,
            "grid_area": null,
            "grid_template_columns": null,
            "flex": null,
            "_model_name": "LayoutModel",
            "justify_items": null,
            "grid_row": null,
            "max_height": null,
            "align_content": null,
            "visibility": null,
            "align_self": null,
            "height": null,
            "min_height": null,
            "padding": null,
            "grid_auto_rows": null,
            "grid_gap": null,
            "max_width": null,
            "order": null,
            "_view_module_version": "1.2.0",
            "grid_template_areas": null,
            "object_position": null,
            "object_fit": null,
            "grid_auto_columns": null,
            "margin": null,
            "display": null,
            "left": null
          }
        }
      }
    }
  },
  "cells": [
    {
      "cell_type": "markdown",
      "metadata": {
        "id": "ib_GCL6g2J-S"
      },
      "source": [
        "# Webapp for Dog Breed Identification\r\n",
        "\r\n",
        "Upload a dog photo from your computer and see if we predict the dog breed correctly!"
      ]
    },
    {
      "cell_type": "code",
      "metadata": {
        "id": "y-pKiEP-3DH7"
      },
      "source": [
        "from fastai.vision.all import *\r\n",
        "from fastai.vision.widgets import *"
      ],
      "execution_count": 2,
      "outputs": []
    },
    {
      "cell_type": "code",
      "metadata": {
        "id": "UANnhotPmDEW"
      },
      "source": [
        "import requests\r\n",
        "\r\n",
        "def download_file_from_google_drive(id, destination):\r\n",
        "    URL = \"https://docs.google.com/uc?export=download\"\r\n",
        "\r\n",
        "    session = requests.Session()\r\n",
        "\r\n",
        "    response = session.get(URL, params = { 'id' : id }, stream = True)\r\n",
        "    token = get_confirm_token(response)\r\n",
        "\r\n",
        "    if token:\r\n",
        "        params = { 'id' : id, 'confirm' : token }\r\n",
        "        response = session.get(URL, params = params, stream = True)\r\n",
        "\r\n",
        "    save_response_content(response, destination)    \r\n",
        "\r\n",
        "def get_confirm_token(response):\r\n",
        "    for key, value in response.cookies.items():\r\n",
        "        if key.startswith('download_warning'):\r\n",
        "            return value\r\n",
        "\r\n",
        "    return None\r\n",
        "\r\n",
        "def save_response_content(response, destination):\r\n",
        "    CHUNK_SIZE = 32768\r\n",
        "\r\n",
        "    with open(destination, \"wb\") as f:\r\n",
        "        for chunk in response.iter_content(CHUNK_SIZE):\r\n",
        "            if chunk: # filter out keep-alive new chunks\r\n",
        "                f.write(chunk)\r\n",
        "\r\n",
        "\r\n",
        "file_id = '1KgRs1fpWCqkjGNHhJfQb_QsA5kyVNnF4'\r\n",
        "destination = 'model.pkl'\r\n",
        "download_file_from_google_drive(file_id, destination)"
      ],
      "execution_count": 3,
      "outputs": []
    },
    {
      "cell_type": "code",
      "metadata": {
        "id": "rT_r1a_SmR1W"
      },
      "source": [
        "model_path = Path('./model.pkl')\r\n",
        "learn_inf = load_learner(model_path, cpu=True)"
      ],
      "execution_count": 4,
      "outputs": []
    },
    {
      "cell_type": "code",
      "metadata": {
        "id": "ImlSaHiLVj9M"
      },
      "source": [
        "btn_upload = widgets.FileUpload()\r\n",
        "out_pl = widgets.Output()\r\n",
        "lbl_pred = widgets.Label()"
      ],
      "execution_count": 5,
      "outputs": []
    },
    {
      "cell_type": "code",
      "metadata": {
        "id": "cO8lybchVj5s"
      },
      "source": [
        "def on_data_change(change):\r\n",
        "    lbl_pred.value = ''\r\n",
        "    img = PILImage.create(btn_upload.data[-1])\r\n",
        "    out_pl.clear_output()\r\n",
        "    with out_pl: display(img.to_thumb(128,128))\r\n",
        "    pred,pred_idx,probs = learn_inf.predict(img)\r\n",
        "    # lbl_pred.value = f'Prediction: {pred}; Probability: {probs[pred_idx]:.04f}'\r\n",
        "    lbl_pred.value = f'Prediction: {pred}'"
      ],
      "execution_count": 6,
      "outputs": []
    },
    {
      "cell_type": "code",
      "metadata": {
        "id": "Yubb4vPqVj2m"
      },
      "source": [
        "btn_upload.observe(on_data_change, names=['data'])"
      ],
      "execution_count": 7,
      "outputs": []
    },
    {
      "cell_type": "code",
      "metadata": {
        "id": "ebMJgTcjVj0G",
        "colab": {
          "base_uri": "https://localhost:8080/",
          "height": 204,
          "referenced_widgets": [
            "aa7b019585f44adaab1843876091d3b5",
            "d056b0c14dd640239ca67d169ebf7995",
            "91b2701c6a38495a91654957032e0a5b",
            "e5f24be5d6d84144bfd89512a042070c",
            "0a9c250440894428a23bbc7c54dcbf00",
            "2424c424fe6442e0b3c4c6c2f4f3156f",
            "d72a7a3ee7fc4c3791a7eb74621f6c86",
            "05fbbd92bed94774aabc0b8b5491fdb9",
            "b1e1751af5f84e139bed7057cdff60af",
            "ae818c541f5e40ae9ca00c593c1e10e4",
            "35ff649d41d1480eac29e3edc3ea7eb9",
            "5b1b02d05f784bbd8325b2327817c430",
            "8dda2c9e9f2a491ca87b7e37fc4b4188"
          ]
        },
        "outputId": "4b63d483-9c3b-47f8-9478-a4f72b42511d"
      },
      "source": [
        "display(VBox([widgets.Label('Select your dog!'), lbl_pred, btn_upload, out_pl]))"
      ],
      "execution_count": 8,
      "outputs": [
        {
          "output_type": "display_data",
          "data": {
            "application/vnd.jupyter.widget-view+json": {
              "model_id": "aa7b019585f44adaab1843876091d3b5",
              "version_minor": 0,
              "version_major": 2
            },
            "text/plain": [
              "VBox(children=(Label(value='Select your dog!'), Label(value=''), FileUpload(value={}, description='Upload'), O…"
            ]
          },
          "metadata": {
            "tags": []
          }
        },
        {
          "output_type": "display_data",
          "data": {
            "text/html": [
              ""
            ],
            "text/plain": [
              "<IPython.core.display.HTML object>"
            ]
          },
          "metadata": {
            "tags": []
          }
        }
      ]
    }
  ]
}