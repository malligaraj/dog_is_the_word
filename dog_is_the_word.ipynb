{
  "nbformat": 4,
  "nbformat_minor": 0,
  "metadata": {
    "colab": {
      "name": "dog_is_the_word.ipynb",
      "provenance": []
    },
    "kernelspec": {
      "name": "python3",
      "display_name": "Python 3"
    }
  },
  "cells": [
    {
      "cell_type": "markdown",
      "metadata": {
        "id": "ib_GCL6g2J-S"
      },
      "source": [
        "# Webapp for Dog Breed Identification\r\n"
      ]
    },
    {
      "cell_type": "code",
      "metadata": {
        "colab": {
          "base_uri": "https://localhost:8080/"
        },
        "id": "LV8acYOhgfDO",
        "outputId": "3aca4a1c-2cde-427b-83c6-dfc08897c22f"
      },
      "source": [
        "# !pip install -Uqq fastbook\r\n",
        "# import fastbook\r\n",
        "# fastbook.setup_book()"
      ],
      "execution_count": 1,
      "outputs": [
        {
          "output_type": "stream",
          "text": [
            "\u001b[K     |████████████████████████████████| 727kB 6.1MB/s \n",
            "\u001b[K     |████████████████████████████████| 194kB 26.0MB/s \n",
            "\u001b[K     |████████████████████████████████| 1.1MB 28.2MB/s \n",
            "\u001b[K     |████████████████████████████████| 51kB 5.7MB/s \n",
            "\u001b[K     |████████████████████████████████| 61kB 5.9MB/s \n",
            "\u001b[?25hMounted at /content/gdrive\n"
          ],
          "name": "stdout"
        }
      ]
    },
    {
      "cell_type": "code",
      "metadata": {
        "id": "y-pKiEP-3DH7"
      },
      "source": [
        "from fastai.vision.all import *\r\n",
        "from fastai.vision.widgets import *"
      ],
      "execution_count": 2,
      "outputs": []
    },
    {
      "cell_type": "code",
      "metadata": {
        "colab": {
          "base_uri": "https://localhost:8080/"
        },
        "id": "JiAQU8IsfThY",
        "outputId": "1b561557-b251-4686-9a8d-9b3ab9df35e8"
      },
      "source": [
        "import urllib.request\r\n",
        "from pathlib import Path\r\n",
        "\r\n",
        "MODEL_URL = \"https://drive.google.com/uc?export=download&id=1KgRs1fpWCqkjGNHhJfQb_QsA5kyVNnF4\"\r\n",
        "urllib.request.urlretrieve(MODEL_URL, \"model.pkl\")\r\n",
        "\r\n",
        "model_path = Path('./model.pkl')\r\n",
        "learn_inf = load_learner(model_path, cpu=True)"
      ],
      "execution_count": 8,
      "outputs": [
        {
          "output_type": "execute_result",
          "data": {
            "text/plain": [
              "('model.pkl', <http.client.HTTPMessage at 0x7f7d3672e908>)"
            ]
          },
          "metadata": {
            "tags": []
          },
          "execution_count": 8
        }
      ]
    },
    {
      "cell_type": "code",
      "metadata": {
        "colab": {
          "base_uri": "https://localhost:8080/"
        },
        "id": "8yfq98Kyh4OD",
        "outputId": "36e83bb9-bebd-47b5-d54e-e13346a2ad9c"
      },
      "source": [
        "!ls -la"
      ],
      "execution_count": 10,
      "outputs": [
        {
          "output_type": "stream",
          "text": [
            "total 24\n",
            "drwxr-xr-x 1 root root 4096 Dec 14 18:29 .\n",
            "drwxr-xr-x 1 root root 4096 Dec 14 18:27 ..\n",
            "drwxr-xr-x 1 root root 4096 Dec 10 17:17 .config\n",
            "drwx------ 5 root root 4096 Dec 14 18:29 gdrive\n",
            "-rw-r--r-- 1 root root 3261 Dec 14 18:33 model.pkl\n",
            "drwxr-xr-x 1 root root 4096 Dec  2 22:04 sample_data\n"
          ],
          "name": "stdout"
        }
      ]
    },
    {
      "cell_type": "code",
      "metadata": {
        "id": "ImlSaHiLVj9M"
      },
      "source": [
        "btn_upload = widgets.FileUpload()\r\n",
        "out_pl = widgets.Output()\r\n",
        "lbl_pred = widgets.Label()"
      ],
      "execution_count": null,
      "outputs": []
    },
    {
      "cell_type": "code",
      "metadata": {
        "id": "cO8lybchVj5s"
      },
      "source": [
        "def on_data_change(change):\r\n",
        "    lbl_pred.value = ''\r\n",
        "    img = PILImage.create(btn_upload.data[-1])\r\n",
        "    out_pl.clear_output()\r\n",
        "    with out_pl: display(img.to_thumb(128,128))\r\n",
        "    pred,pred_idx,probs = learn_inf.predict(img)\r\n",
        "    # lbl_pred.value = f'Prediction: {pred}; Probability: {probs[pred_idx]:.04f}'\r\n",
        "    lbl_pred.value = f'Prediction: {pred}'"
      ],
      "execution_count": null,
      "outputs": []
    },
    {
      "cell_type": "code",
      "metadata": {
        "id": "Yubb4vPqVj2m"
      },
      "source": [
        "btn_upload.observe(on_data_change, names=['data'])"
      ],
      "execution_count": null,
      "outputs": []
    },
    {
      "cell_type": "code",
      "metadata": {
        "id": "ebMJgTcjVj0G"
      },
      "source": [
        "display(VBox([widgets.Label('Select your dog!'), btn_upload, out_pl, lbl_pred]))"
      ],
      "execution_count": null,
      "outputs": []
    }
  ]
}