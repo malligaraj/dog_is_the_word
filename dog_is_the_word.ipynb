{
  "nbformat": 4,
  "nbformat_minor": 0,
  "metadata": {
    "colab": {
      "name": "dog_is_the_word.ipynb",
      "provenance": []
    },
    "kernelspec": {
      "name": "python3",
      "display_name": "Python 3"
    }
  },
  "cells": [
    {
      "cell_type": "markdown",
      "metadata": {
        "id": "ib_GCL6g2J-S"
      },
      "source": [
        "# Webapp for Dog Breed Identification\r\n"
      ]
    },
    {
      "cell_type": "code",
      "metadata": {
        "id": "y-pKiEP-3DH7"
      },
      "source": [
        "from fastai.vision.all import *\r\n",
        "from fastai.vision.widgets import *"
      ],
      "execution_count": 2,
      "outputs": []
    },
    {
      "cell_type": "code",
      "metadata": {
        "id": "UANnhotPmDEW"
      },
      "source": [
        "import requests\r\n",
        "\r\n",
        "def download_file_from_google_drive(id, destination):\r\n",
        "    URL = \"https://docs.google.com/uc?export=download\"\r\n",
        "\r\n",
        "    session = requests.Session()\r\n",
        "\r\n",
        "    response = session.get(URL, params = { 'id' : id }, stream = True)\r\n",
        "    token = get_confirm_token(response)\r\n",
        "\r\n",
        "    if token:\r\n",
        "        params = { 'id' : id, 'confirm' : token }\r\n",
        "        response = session.get(URL, params = params, stream = True)\r\n",
        "\r\n",
        "    save_response_content(response, destination)    \r\n",
        "\r\n",
        "def get_confirm_token(response):\r\n",
        "    for key, value in response.cookies.items():\r\n",
        "        if key.startswith('download_warning'):\r\n",
        "            return value\r\n",
        "\r\n",
        "    return None\r\n",
        "\r\n",
        "def save_response_content(response, destination):\r\n",
        "    CHUNK_SIZE = 32768\r\n",
        "\r\n",
        "    with open(destination, \"wb\") as f:\r\n",
        "        for chunk in response.iter_content(CHUNK_SIZE):\r\n",
        "            if chunk: # filter out keep-alive new chunks\r\n",
        "                f.write(chunk)\r\n",
        "\r\n",
        "\r\n",
        "file_id = '1KgRs1fpWCqkjGNHhJfQb_QsA5kyVNnF4'\r\n",
        "destination = 'model.pkl'\r\n",
        "download_file_from_google_drive(file_id, destination)"
      ],
      "execution_count": 4,
      "outputs": []
    },
    {
      "cell_type": "code",
      "metadata": {
        "id": "rT_r1a_SmR1W"
      },
      "source": [
        "model_path = Path('./model.pkl')\r\n",
        "learn_inf = load_learner(model_path, cpu=True)"
      ],
      "execution_count": 5,
      "outputs": []
    },
    {
      "cell_type": "code",
      "metadata": {
        "id": "ImlSaHiLVj9M"
      },
      "source": [
        "btn_upload = widgets.FileUpload()\r\n",
        "out_pl = widgets.Output()\r\n",
        "lbl_pred = widgets.Label()"
      ],
      "execution_count": 6,
      "outputs": []
    },
    {
      "cell_type": "code",
      "metadata": {
        "id": "cO8lybchVj5s"
      },
      "source": [
        "def on_data_change(change):\r\n",
        "    lbl_pred.value = ''\r\n",
        "    img = PILImage.create(btn_upload.data[-1])\r\n",
        "    out_pl.clear_output()\r\n",
        "    with out_pl: display(img.to_thumb(128,128))\r\n",
        "    pred,pred_idx,probs = learn_inf.predict(img)\r\n",
        "    # lbl_pred.value = f'Prediction: {pred}; Probability: {probs[pred_idx]:.04f}'\r\n",
        "    lbl_pred.value = f'Prediction: {pred}'"
      ],
      "execution_count": 7,
      "outputs": []
    },
    {
      "cell_type": "code",
      "metadata": {
        "id": "Yubb4vPqVj2m"
      },
      "source": [
        "btn_upload.observe(on_data_change, names=['data'])"
      ],
      "execution_count": 8,
      "outputs": []
    },
    {
      "cell_type": "code",
      "metadata": {
        "id": "ebMJgTcjVj0G"
      },
      "source": [
        "display(VBox([widgets.Label('Select your dog!'), btn_upload, out_pl, lbl_pred]))"
      ],
      "execution_count": null,
      "outputs": []
    }
  ]
}